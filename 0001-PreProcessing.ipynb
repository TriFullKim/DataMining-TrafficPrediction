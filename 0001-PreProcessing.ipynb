{
 "cells": [
  {
   "cell_type": "code",
   "execution_count": 1,
   "metadata": {},
   "outputs": [],
   "source": [
    "import pandas as pd\n",
    "import seaborn as sns\n",
    "import numpy as np\n",
    "from sklearn.preprocessing import LabelEncoder"
   ]
  },
  {
   "cell_type": "code",
   "execution_count": 2,
   "metadata": {},
   "outputs": [],
   "source": [
    "# NOTE: Custome Module !!\n",
    "from module.dataframe import df_query_by_type, series_string_filter"
   ]
  },
  {
   "cell_type": "code",
   "execution_count": 3,
   "metadata": {},
   "outputs": [],
   "source": [
    "train = pd.read_parquet(\"./database/train.parquet\")\n",
    "test = pd.read_parquet(\"./database/test.parquet\")"
   ]
  },
  {
   "cell_type": "markdown",
   "metadata": {},
   "source": [
    "## 전처리"
   ]
  },
  {
   "cell_type": "markdown",
   "metadata": {},
   "source": [
    "### 모든 값이 같은 열 삭제\n",
    "---"
   ]
  },
  {
   "cell_type": "code",
   "execution_count": 4,
   "metadata": {},
   "outputs": [
    {
     "data": {
      "text/plain": [
       "(Index(['id'], dtype='object'),\n",
       " Index(['vehicle_restricted', 'height_restricted'], dtype='object'))"
      ]
     },
     "execution_count": 4,
     "metadata": {},
     "output_type": "execute_result"
    }
   ],
   "source": [
    "# NOTE: 모든 값이 같은 열을 제거한다. \n",
    "is_unique = train.apply(pd.Series.unique, axis=0).apply(len)\n",
    "is_unique[is_unique == len(train)].index, is_unique[is_unique == 1].index"
   ]
  },
  {
   "cell_type": "code",
   "execution_count": 5,
   "metadata": {},
   "outputs": [],
   "source": [
    "train = train.drop(columns=is_unique[is_unique == 1].index)\n",
    "test = test.drop(columns=is_unique[is_unique == 1].index)"
   ]
  },
  {
   "cell_type": "markdown",
   "metadata": {},
   "source": [
    "### 레이블로 변환하기\n",
    "---"
   ]
  },
  {
   "cell_type": "code",
   "execution_count": 6,
   "metadata": {},
   "outputs": [],
   "source": [
    "# 도로에 하중 제한이 있냐/없냐로 변환함.\n",
    "train[\"weight_restricted\"] = (train[\"weight_restricted\"] != 0).astype(int)\n",
    "test[\"weight_restricted\"] = (test[\"weight_restricted\"] != 0).astype(int)"
   ]
  },
  {
   "cell_type": "code",
   "execution_count": 7,
   "metadata": {},
   "outputs": [],
   "source": [
    "# 구체적인 이름을 종류로 변환함.\n",
    "tourism_road = [\"관광단지\", \"관광도로\"]\n",
    "general_road = [\"지방도\", \"일반국도\", \"길\", \"로\"]\n",
    "bridge_road = [\"교\", \"천교\"]\n",
    "nontaged_road = [\"-\"]\n",
    "def mapping_road(road_name):\n",
    "    if sum([target in road_name for target in tourism_road]) > 0:\n",
    "        return \"tourism_road\"\n",
    "    elif sum([target in road_name for target in general_road]) > 0:\n",
    "        return \"general_road\"\n",
    "    elif sum([target in road_name for target in bridge_road]) > 0:\n",
    "        return \"bridge\"\n",
    "    elif sum([target in road_name for target in nontaged_road]) > 0:\n",
    "        return \"-\"\n",
    "    else:\n",
    "        return \"-\"\n",
    "\n",
    "\n",
    "train[\"road_type\"] = train[\"road_name\"].apply(mapping_road)\n",
    "test[\"road_type\"] = test[\"road_name\"].apply(mapping_road)"
   ]
  },
  {
   "cell_type": "code",
   "execution_count": 8,
   "metadata": {},
   "outputs": [
    {
     "data": {
      "text/plain": [
       "road_type\n",
       "general_road    4028056\n",
       "-                569463\n",
       "tourism_road      55993\n",
       "bridge            47705\n",
       "Name: count, dtype: int64"
      ]
     },
     "execution_count": 8,
     "metadata": {},
     "output_type": "execute_result"
    }
   ],
   "source": [
    "train[\"road_type\"].value_counts()"
   ]
  },
  {
   "cell_type": "code",
   "execution_count": 9,
   "metadata": {},
   "outputs": [
    {
     "data": {
      "text/plain": [
       "road_type\n",
       "general_road    265853\n",
       "-                12600\n",
       "tourism_road      6957\n",
       "bridge            5831\n",
       "Name: count, dtype: int64"
      ]
     },
     "execution_count": 9,
     "metadata": {},
     "output_type": "execute_result"
    }
   ],
   "source": [
    "test[\"road_type\"].value_counts()"
   ]
  },
  {
   "cell_type": "markdown",
   "metadata": {},
   "source": [
    "### 공휴일 처리\n",
    "\n",
    "---\n"
   ]
  },
  {
   "cell_type": "code",
   "execution_count": 10,
   "metadata": {},
   "outputs": [],
   "source": [
    "import holidays\n",
    "kr_holidays = holidays.KR()\n",
    "\n",
    "def to_date_str(int_date: int):\n",
    "    day = int_date % 100\n",
    "    year = (int_date - day) // 10000\n",
    "    month = (int_date - year * 10000) // 100\n",
    "    return f\"{year}-{month:02}-{day:02}\""
   ]
  },
  {
   "cell_type": "code",
   "execution_count": 11,
   "metadata": {},
   "outputs": [
    {
     "data": {
      "text/plain": [
       "6.973513454069447"
      ]
     },
     "execution_count": 11,
     "metadata": {},
     "output_type": "execute_result"
    }
   ],
   "source": [
    "# 2m 14s <- O(n^2)인듯..?\n",
    "train[\"is_holiday\"] = train[\"base_date\"].apply(to_date_str)\n",
    "train[\"is_holiday\"] = train[\"is_holiday\"].apply(lambda _X: _X in kr_holidays)\n",
    "\n",
    "test[\"is_holiday\"] = test[\"base_date\"].apply(to_date_str)\n",
    "test[\"is_holiday\"] = test[\"is_holiday\"].apply(lambda _X: _X in kr_holidays)\n",
    "train[\"is_holiday\"].sum() / len(train[\"is_holiday\"]) * 100"
   ]
  },
  {
   "cell_type": "markdown",
   "metadata": {},
   "source": [
    "### `day_of_week, start/end_turn_restricted, road_type, is_holiday`을 `label`로 처리\n",
    "\n",
    "---\n"
   ]
  },
  {
   "cell_type": "code",
   "execution_count": 12,
   "metadata": {},
   "outputs": [],
   "source": [
    "# NOTE: 기존 코드에 있던 것임.\n",
    "str_col = [\"day_of_week\", \"start_turn_restricted\", \"end_turn_restricted\", \"road_type\", \"is_holiday\",\"weight_restricted\"]\n",
    "for col in str_col:\n",
    "    label_enc = LabelEncoder()\n",
    "    label_enc = label_enc.fit(train[col])\n",
    "    train[col] = label_enc.transform(train[col])\n",
    "\n",
    "    for label in np.unique(test[col]):\n",
    "        if label not in label_enc.classes_:\n",
    "            label_enc.classes_ = np.append(label_enc.classes_, label)\n",
    "            print(col, label_enc.classes_)\n",
    "    test[col] = label_enc.transform(test[col])"
   ]
  },
  {
   "cell_type": "code",
   "execution_count": 13,
   "metadata": {},
   "outputs": [],
   "source": [
    "# One-Hot Enc\n",
    "train = pd.get_dummies(train, columns=str_col[:], dtype=int)\n",
    "test = pd.get_dummies(test, columns=str_col[:], dtype=int)"
   ]
  },
  {
   "cell_type": "code",
   "execution_count": 14,
   "metadata": {},
   "outputs": [
    {
     "data": {
      "text/plain": [
       "('칼럼의 개수 같나요?', True)"
      ]
     },
     "execution_count": 14,
     "metadata": {},
     "output_type": "execute_result"
    }
   ],
   "source": [
    "\"칼럼의 개수 같나요?\",len(train.drop(columns=\"target\").columns) == len(test.columns)"
   ]
  },
  {
   "cell_type": "markdown",
   "metadata": {},
   "source": [
    "### 날짜처리\n",
    "---"
   ]
  },
  {
   "cell_type": "code",
   "execution_count": 15,
   "metadata": {},
   "outputs": [],
   "source": [
    "train[\"base_date_year\"] = train[\"base_date\"] // 10000\n",
    "train[\"base_date_month\"] = train[\"base_date\"] // 100 % 100\n",
    "train[\"base_date_day\"] = train[\"base_date\"] % 100\n",
    "train = train.drop(columns=\"base_date\")\n",
    "\n",
    "test[\"base_date_year\"] = test[\"base_date\"] // 10000\n",
    "test[\"base_date_month\"] = test[\"base_date\"] // 100 % 100\n",
    "test[\"base_date_day\"] = test[\"base_date\"] % 100\n",
    "test = test.drop(columns=\"base_date\")"
   ]
  },
  {
   "cell_type": "markdown",
   "metadata": {},
   "source": [
    "## Check Dataframe after preprocessing\n",
    "---"
   ]
  },
  {
   "cell_type": "code",
   "execution_count": 16,
   "metadata": {},
   "outputs": [
    {
     "data": {
      "text/html": [
       "<div>\n",
       "<style scoped>\n",
       "    .dataframe tbody tr th:only-of-type {\n",
       "        vertical-align: middle;\n",
       "    }\n",
       "\n",
       "    .dataframe tbody tr th {\n",
       "        vertical-align: top;\n",
       "    }\n",
       "\n",
       "    .dataframe thead th {\n",
       "        text-align: right;\n",
       "    }\n",
       "</style>\n",
       "<table border=\"1\" class=\"dataframe\">\n",
       "  <thead>\n",
       "    <tr style=\"text-align: right;\">\n",
       "      <th></th>\n",
       "      <th>id</th>\n",
       "      <th>base_hour</th>\n",
       "      <th>lane_count</th>\n",
       "      <th>road_rating</th>\n",
       "      <th>road_name</th>\n",
       "      <th>multi_linked</th>\n",
       "      <th>connect_code</th>\n",
       "      <th>maximum_speed_limit</th>\n",
       "      <th>start_node_name</th>\n",
       "      <th>start_latitude</th>\n",
       "      <th>...</th>\n",
       "      <th>road_type_1</th>\n",
       "      <th>road_type_2</th>\n",
       "      <th>road_type_3</th>\n",
       "      <th>is_holiday_0</th>\n",
       "      <th>is_holiday_1</th>\n",
       "      <th>weight_restricted_0</th>\n",
       "      <th>weight_restricted_1</th>\n",
       "      <th>base_date_year</th>\n",
       "      <th>base_date_month</th>\n",
       "      <th>base_date_day</th>\n",
       "    </tr>\n",
       "  </thead>\n",
       "  <tbody>\n",
       "  </tbody>\n",
       "</table>\n",
       "<p>0 rows × 37 columns</p>\n",
       "</div>"
      ],
      "text/plain": [
       "Empty DataFrame\n",
       "Columns: [id, base_hour, lane_count, road_rating, road_name, multi_linked, connect_code, maximum_speed_limit, start_node_name, start_latitude, start_longitude, end_node_name, end_latitude, end_longitude, target, day_of_week_0, day_of_week_1, day_of_week_2, day_of_week_3, day_of_week_4, day_of_week_5, day_of_week_6, start_turn_restricted_0, start_turn_restricted_1, end_turn_restricted_0, end_turn_restricted_1, road_type_0, road_type_1, road_type_2, road_type_3, is_holiday_0, is_holiday_1, weight_restricted_0, weight_restricted_1, base_date_year, base_date_month, base_date_day]\n",
       "Index: []\n",
       "\n",
       "[0 rows x 37 columns]"
      ]
     },
     "execution_count": 16,
     "metadata": {},
     "output_type": "execute_result"
    }
   ],
   "source": [
    "train.head(0)"
   ]
  },
  {
   "cell_type": "markdown",
   "metadata": {},
   "source": [
    "## Final Preprocessing Function "
   ]
  },
  {
   "cell_type": "code",
   "execution_count": 17,
   "metadata": {},
   "outputs": [],
   "source": [
    "# NOTE: 모든 값이 같은 열을 제거한다.\n",
    "def do_preprocessing(train, test):\n",
    "    # non-unique 제거하기\n",
    "    is_unique = train.apply(pd.Series.unique, axis=0).apply(len)\n",
    "    is_unique[is_unique == len(train)].index, is_unique[is_unique == 1].index\n",
    "    train = train.drop(columns=is_unique[is_unique == 1].index)\n",
    "    test = test.drop(columns=is_unique[is_unique == 1].index)\n",
    "\n",
    "    # weight_restricted - label추가하기\n",
    "    train[\"weight_restricted\"] = (train[\"weight_restricted\"] != 0).astype(int)\n",
    "    test[\"weight_restricted\"] = (test[\"weight_restricted\"] != 0).astype(int)\n",
    "\n",
    "    # is_holiday - label추가하기\n",
    "    train[\"is_holiday\"] = train[\"base_date\"].apply(to_date_str)\n",
    "    test[\"is_holiday\"] = test[\"base_date\"].apply(to_date_str)\n",
    "    train[\"is_holiday\"] = train[\"is_holiday\"].apply(lambda _X: _X in kr_holidays).astype(int)\n",
    "    test[\"is_holiday\"] = test[\"is_holiday\"].apply(lambda _X: _X in kr_holidays).astype(int)\n",
    "\n",
    "    # road_type - label추가하기\n",
    "    train[\"road_type\"] = train[\"road_name\"].apply(mapping_road)\n",
    "    test[\"road_type\"] = test[\"road_name\"].apply(mapping_road)\n",
    "\n",
    "    # label encode.\n",
    "    str_col = [\n",
    "        \"day_of_week\",\n",
    "        \"start_turn_restricted\",\n",
    "        \"end_turn_restricted\",\n",
    "        \"road_type\",\n",
    "        \"is_holiday\",\n",
    "        \"weight_restricted\",\n",
    "    ]\n",
    "    for col in str_col:\n",
    "        label_enc = LabelEncoder()\n",
    "        label_enc = label_enc.fit(train[col])\n",
    "        train[col] = label_enc.transform(train[col])\n",
    "\n",
    "        for label in np.unique(test[col]):\n",
    "            if label not in label_enc.classes_:\n",
    "                label_enc.classes_ = np.append(label_enc.classes_, label)\n",
    "        test[col] = label_enc.transform(test[col])\n",
    "\n",
    "    # One-Hot Enc\n",
    "    train = pd.get_dummies(\n",
    "        train,\n",
    "        columns=str_col[:],\n",
    "        dtype=int,\n",
    "    )\n",
    "    test = pd.get_dummies(\n",
    "        test,\n",
    "        columns=str_col[:],\n",
    "        dtype=int,\n",
    "    )\n",
    "\n",
    "    # 날짜 삽입입\n",
    "    train[\"base_date_year\"] = train[\"base_date\"] // 10000\n",
    "    train[\"base_date_month\"] = train[\"base_date\"] // 100 % 100\n",
    "    train[\"base_date_day\"] = train[\"base_date\"] % 100\n",
    "    train = train.drop(columns=\"base_date\")\n",
    "\n",
    "    test[\"base_date_year\"] = test[\"base_date\"] // 10000\n",
    "    test[\"base_date_month\"] = test[\"base_date\"] // 100 % 100\n",
    "    test[\"base_date_day\"] = test[\"base_date\"] % 100\n",
    "    test = test.drop(columns=\"base_date\")\n",
    "\n",
    "    # 문자형 데이터 제거하기.\n",
    "    train = pd.concat([df_query_by_type(train, float), df_query_by_type(train, int)], axis=1)\n",
    "    test = pd.concat([df_query_by_type(test, float), df_query_by_type(test, int)], axis=1)\n",
    "\n",
    "    # 좌표 정보 제거하기.\n",
    "    train = train.drop(columns=[\"start_latitude\", \"start_longitude\", \"end_latitude\", \"end_longitude\"])\n",
    "    test = test.drop(columns=[\"start_latitude\", \"start_longitude\", \"end_latitude\", \"end_longitude\"])\n",
    "\n",
    "    return train, test"
   ]
  },
  {
   "cell_type": "markdown",
   "metadata": {},
   "source": [
    "---"
   ]
  },
  {
   "cell_type": "code",
   "execution_count": 18,
   "metadata": {},
   "outputs": [
    {
     "data": {
      "text/plain": [
       "<Axes: >"
      ]
     },
     "execution_count": 18,
     "metadata": {},
     "output_type": "execute_result"
    },
    {
     "data": {
      "image/png": "[encoded data removed]",
      "text/plain": [
       "<Figure size 640x480 with 2 Axes>"
      ]
     },
     "metadata": {},
     "output_type": "display_data"
    }
   ],
   "source": [
    "df_numberic = pd.concat([df_query_by_type(train, float), df_query_by_type(train, int)], axis=1)\n",
    "df_numberic = df_numberic.drop(columns=[\"start_latitude\", \"start_longitude\", \"end_latitude\", \"end_longitude\"])\n",
    "\n",
    "sns.heatmap(df_numberic.corr(), vmax=1, vmin=-1, cmap=\"coolwarm\")"
   ]
  }
 ],
 "metadata": {
  "kernelspec": {
   "display_name": "damine",
   "language": "python",
   "name": "python3"
  },
  "language_info": {
   "codemirror_mode": {
    "name": "ipython",
    "version": 3
   },
   "file_extension": ".py",
   "mimetype": "text/x-python",
   "name": "python",
   "nbconvert_exporter": "python",
   "pygments_lexer": "ipython3",
   "version": "3.9.20"
  }
 },
 "nbformat": 4,
 "nbformat_minor": 2
}
