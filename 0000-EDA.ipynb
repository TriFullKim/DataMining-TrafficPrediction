{
 "cells": [
  {
   "cell_type": "code",
   "execution_count": 36,
   "metadata": {},
   "outputs": [],
   "source": [
    "import pandas as pd\n",
    "import numpy as np\n",
    "from sklearn.preprocessing import LabelEncoder\n",
    "import lightgbm as lgb\n",
    "import matplotlib.pyplot as plt\n",
    "import re"
   ]
  },
  {
   "cell_type": "code",
   "execution_count": 37,
   "metadata": {},
   "outputs": [
    {
     "data": {
      "text/plain": [
       "['사거리']"
      ]
     },
     "execution_count": 37,
     "metadata": {},
     "output_type": "execute_result"
    }
   ],
   "source": [
    "from nltk import FreqDist\n",
    "from konlpy.tag import Kkma, Okt\n",
    "\n",
    "kkma = Okt()\n",
    "kkma.nouns(\"KAL사거리\")"
   ]
  },
  {
   "cell_type": "code",
   "execution_count": 38,
   "metadata": {},
   "outputs": [],
   "source": [
    "# NOTE: Custome Module !!\n",
    "from module.dataframe import df_query_by_type, series_string_filter"
   ]
  },
  {
   "cell_type": "code",
   "execution_count": 39,
   "metadata": {},
   "outputs": [],
   "source": [
    "train = pd.read_parquet(\"./database/train.parquet\")\n",
    "test = pd.read_parquet(\"./database/test.parquet\")"
   ]
  },
  {
   "cell_type": "markdown",
   "metadata": {},
   "source": [
    "### Check Data\n",
    "---"
   ]
  },
  {
   "cell_type": "code",
   "execution_count": 40,
   "metadata": {},
   "outputs": [
    {
     "name": "stdout",
     "output_type": "stream",
     "text": [
      "<class 'pandas.core.frame.DataFrame'>\n",
      "RangeIndex: 4701217 entries, 0 to 4701216\n",
      "Data columns (total 23 columns):\n",
      " #   Column                 Dtype  \n",
      "---  ------                 -----  \n",
      " 0   id                     object \n",
      " 1   base_date              int64  \n",
      " 2   day_of_week            object \n",
      " 3   base_hour              int64  \n",
      " 4   lane_count             int64  \n",
      " 5   road_rating            int64  \n",
      " 6   road_name              object \n",
      " 7   multi_linked           int64  \n",
      " 8   connect_code           int64  \n",
      " 9   maximum_speed_limit    float64\n",
      " 10  vehicle_restricted     float64\n",
      " 11  weight_restricted      float64\n",
      " 12  height_restricted      float64\n",
      " 13  road_type              int64  \n",
      " 14  start_node_name        object \n",
      " 15  start_latitude         float64\n",
      " 16  start_longitude        float64\n",
      " 17  start_turn_restricted  object \n",
      " 18  end_node_name          object \n",
      " 19  end_latitude           float64\n",
      " 20  end_longitude          float64\n",
      " 21  end_turn_restricted    object \n",
      " 22  target                 float64\n",
      "dtypes: float64(9), int64(7), object(7)\n",
      "memory usage: 825.0+ MB\n"
     ]
    }
   ],
   "source": [
    "# NOTE: Check DataType\n",
    "train.info()"
   ]
  },
  {
   "cell_type": "code",
   "execution_count": 41,
   "metadata": {},
   "outputs": [
    {
     "data": {
      "text/html": [
       "<div>\n",
       "<style scoped>\n",
       "    .dataframe tbody tr th:only-of-type {\n",
       "        vertical-align: middle;\n",
       "    }\n",
       "\n",
       "    .dataframe tbody tr th {\n",
       "        vertical-align: top;\n",
       "    }\n",
       "\n",
       "    .dataframe thead th {\n",
       "        text-align: right;\n",
       "    }\n",
       "</style>\n",
       "<table border=\"1\" class=\"dataframe\">\n",
       "  <thead>\n",
       "    <tr style=\"text-align: right;\">\n",
       "      <th></th>\n",
       "      <th>lane_count</th>\n",
       "      <th>road_rating</th>\n",
       "      <th>multi_linked</th>\n",
       "      <th>connect_code</th>\n",
       "      <th>road_type</th>\n",
       "    </tr>\n",
       "  </thead>\n",
       "  <tbody>\n",
       "    <tr>\n",
       "      <th>count</th>\n",
       "      <td>4.701217e+06</td>\n",
       "      <td>4.701217e+06</td>\n",
       "      <td>4.701217e+06</td>\n",
       "      <td>4.701217e+06</td>\n",
       "      <td>4.701217e+06</td>\n",
       "    </tr>\n",
       "    <tr>\n",
       "      <th>mean</th>\n",
       "      <td>1.836651e+00</td>\n",
       "      <td>1.049585e+02</td>\n",
       "      <td>4.762597e-04</td>\n",
       "      <td>2.660218e-01</td>\n",
       "      <td>6.152237e-01</td>\n",
       "    </tr>\n",
       "    <tr>\n",
       "      <th>std</th>\n",
       "      <td>6.877513e-01</td>\n",
       "      <td>1.840107e+00</td>\n",
       "      <td>2.181818e-02</td>\n",
       "      <td>5.227760e+00</td>\n",
       "      <td>1.211268e+00</td>\n",
       "    </tr>\n",
       "    <tr>\n",
       "      <th>min</th>\n",
       "      <td>1.000000e+00</td>\n",
       "      <td>1.030000e+02</td>\n",
       "      <td>0.000000e+00</td>\n",
       "      <td>0.000000e+00</td>\n",
       "      <td>0.000000e+00</td>\n",
       "    </tr>\n",
       "    <tr>\n",
       "      <th>25%</th>\n",
       "      <td>1.000000e+00</td>\n",
       "      <td>1.030000e+02</td>\n",
       "      <td>0.000000e+00</td>\n",
       "      <td>0.000000e+00</td>\n",
       "      <td>0.000000e+00</td>\n",
       "    </tr>\n",
       "    <tr>\n",
       "      <th>50%</th>\n",
       "      <td>2.000000e+00</td>\n",
       "      <td>1.060000e+02</td>\n",
       "      <td>0.000000e+00</td>\n",
       "      <td>0.000000e+00</td>\n",
       "      <td>0.000000e+00</td>\n",
       "    </tr>\n",
       "    <tr>\n",
       "      <th>75%</th>\n",
       "      <td>2.000000e+00</td>\n",
       "      <td>1.070000e+02</td>\n",
       "      <td>0.000000e+00</td>\n",
       "      <td>0.000000e+00</td>\n",
       "      <td>0.000000e+00</td>\n",
       "    </tr>\n",
       "    <tr>\n",
       "      <th>max</th>\n",
       "      <td>3.000000e+00</td>\n",
       "      <td>1.070000e+02</td>\n",
       "      <td>1.000000e+00</td>\n",
       "      <td>1.030000e+02</td>\n",
       "      <td>3.000000e+00</td>\n",
       "    </tr>\n",
       "  </tbody>\n",
       "</table>\n",
       "</div>"
      ],
      "text/plain": [
       "         lane_count   road_rating  multi_linked  connect_code     road_type\n",
       "count  4.701217e+06  4.701217e+06  4.701217e+06  4.701217e+06  4.701217e+06\n",
       "mean   1.836651e+00  1.049585e+02  4.762597e-04  2.660218e-01  6.152237e-01\n",
       "std    6.877513e-01  1.840107e+00  2.181818e-02  5.227760e+00  1.211268e+00\n",
       "min    1.000000e+00  1.030000e+02  0.000000e+00  0.000000e+00  0.000000e+00\n",
       "25%    1.000000e+00  1.030000e+02  0.000000e+00  0.000000e+00  0.000000e+00\n",
       "50%    2.000000e+00  1.060000e+02  0.000000e+00  0.000000e+00  0.000000e+00\n",
       "75%    2.000000e+00  1.070000e+02  0.000000e+00  0.000000e+00  0.000000e+00\n",
       "max    3.000000e+00  1.070000e+02  1.000000e+00  1.030000e+02  3.000000e+00"
      ]
     },
     "execution_count": 41,
     "metadata": {},
     "output_type": "execute_result"
    }
   ],
   "source": [
    "# NOTE: Check Statistics int type\n",
    "train.drop(columns=[\"base_date\", \"base_hour\"]).describe(include=[int])"
   ]
  },
  {
   "cell_type": "code",
   "execution_count": 42,
   "metadata": {},
   "outputs": [
    {
     "data": {
      "text/html": [
       "<div>\n",
       "<style scoped>\n",
       "    .dataframe tbody tr th:only-of-type {\n",
       "        vertical-align: middle;\n",
       "    }\n",
       "\n",
       "    .dataframe tbody tr th {\n",
       "        vertical-align: top;\n",
       "    }\n",
       "\n",
       "    .dataframe thead th {\n",
       "        text-align: right;\n",
       "    }\n",
       "</style>\n",
       "<table border=\"1\" class=\"dataframe\">\n",
       "  <thead>\n",
       "    <tr style=\"text-align: right;\">\n",
       "      <th></th>\n",
       "      <th>maximum_speed_limit</th>\n",
       "      <th>vehicle_restricted</th>\n",
       "      <th>weight_restricted</th>\n",
       "      <th>height_restricted</th>\n",
       "      <th>target</th>\n",
       "    </tr>\n",
       "  </thead>\n",
       "  <tbody>\n",
       "    <tr>\n",
       "      <th>count</th>\n",
       "      <td>4.701217e+06</td>\n",
       "      <td>4701217.0</td>\n",
       "      <td>4.701217e+06</td>\n",
       "      <td>4701217.0</td>\n",
       "      <td>4.701217e+06</td>\n",
       "    </tr>\n",
       "    <tr>\n",
       "      <th>mean</th>\n",
       "      <td>6.125329e+01</td>\n",
       "      <td>0.0</td>\n",
       "      <td>5.618742e+03</td>\n",
       "      <td>0.0</td>\n",
       "      <td>4.278844e+01</td>\n",
       "    </tr>\n",
       "    <tr>\n",
       "      <th>std</th>\n",
       "      <td>1.213354e+01</td>\n",
       "      <td>0.0</td>\n",
       "      <td>1.395343e+04</td>\n",
       "      <td>0.0</td>\n",
       "      <td>1.595443e+01</td>\n",
       "    </tr>\n",
       "    <tr>\n",
       "      <th>min</th>\n",
       "      <td>3.000000e+01</td>\n",
       "      <td>0.0</td>\n",
       "      <td>0.000000e+00</td>\n",
       "      <td>0.0</td>\n",
       "      <td>1.000000e+00</td>\n",
       "    </tr>\n",
       "    <tr>\n",
       "      <th>25%</th>\n",
       "      <td>5.000000e+01</td>\n",
       "      <td>0.0</td>\n",
       "      <td>0.000000e+00</td>\n",
       "      <td>0.0</td>\n",
       "      <td>3.000000e+01</td>\n",
       "    </tr>\n",
       "    <tr>\n",
       "      <th>50%</th>\n",
       "      <td>6.000000e+01</td>\n",
       "      <td>0.0</td>\n",
       "      <td>0.000000e+00</td>\n",
       "      <td>0.0</td>\n",
       "      <td>4.300000e+01</td>\n",
       "    </tr>\n",
       "    <tr>\n",
       "      <th>75%</th>\n",
       "      <td>7.000000e+01</td>\n",
       "      <td>0.0</td>\n",
       "      <td>0.000000e+00</td>\n",
       "      <td>0.0</td>\n",
       "      <td>5.400000e+01</td>\n",
       "    </tr>\n",
       "    <tr>\n",
       "      <th>max</th>\n",
       "      <td>8.000000e+01</td>\n",
       "      <td>0.0</td>\n",
       "      <td>5.000000e+04</td>\n",
       "      <td>0.0</td>\n",
       "      <td>1.130000e+02</td>\n",
       "    </tr>\n",
       "  </tbody>\n",
       "</table>\n",
       "</div>"
      ],
      "text/plain": [
       "       maximum_speed_limit  vehicle_restricted  weight_restricted  \\\n",
       "count         4.701217e+06           4701217.0       4.701217e+06   \n",
       "mean          6.125329e+01                 0.0       5.618742e+03   \n",
       "std           1.213354e+01                 0.0       1.395343e+04   \n",
       "min           3.000000e+01                 0.0       0.000000e+00   \n",
       "25%           5.000000e+01                 0.0       0.000000e+00   \n",
       "50%           6.000000e+01                 0.0       0.000000e+00   \n",
       "75%           7.000000e+01                 0.0       0.000000e+00   \n",
       "max           8.000000e+01                 0.0       5.000000e+04   \n",
       "\n",
       "       height_restricted        target  \n",
       "count          4701217.0  4.701217e+06  \n",
       "mean                 0.0  4.278844e+01  \n",
       "std                  0.0  1.595443e+01  \n",
       "min                  0.0  1.000000e+00  \n",
       "25%                  0.0  3.000000e+01  \n",
       "50%                  0.0  4.300000e+01  \n",
       "75%                  0.0  5.400000e+01  \n",
       "max                  0.0  1.130000e+02  "
      ]
     },
     "execution_count": 42,
     "metadata": {},
     "output_type": "execute_result"
    }
   ],
   "source": [
    "# NOTE: Check Statistics float type\n",
    "# 좌표값을 의미하는 latitude, longitude는 제외\n",
    "train.drop(columns=[\"start_latitude\", \"start_longitude\", \"end_latitude\", \"end_longitude\"]).describe(\n",
    "    include=[float]\n",
    ")"
   ]
  },
  {
   "cell_type": "code",
   "execution_count": 43,
   "metadata": {},
   "outputs": [
    {
     "data": {
      "text/plain": [
       "Index([], dtype='object')"
      ]
     },
     "execution_count": 43,
     "metadata": {},
     "output_type": "execute_result"
    }
   ],
   "source": [
    "# NOTE: 각 Column별로 결측 값이 있는지 확인.\n",
    "is_nullable = train.isnull().sum(axis=0)\n",
    "is_nullable[is_nullable != 0].index"
   ]
  },
  {
   "cell_type": "code",
   "execution_count": 44,
   "metadata": {},
   "outputs": [
    {
     "data": {
      "text/plain": [
       "(Index(['id'], dtype='object'),\n",
       " Index(['vehicle_restricted', 'height_restricted'], dtype='object'))"
      ]
     },
     "execution_count": 44,
     "metadata": {},
     "output_type": "execute_result"
    }
   ],
   "source": [
    "# NOTE: 각 Column별로 구분되는 값이 얼마나 있는지 확인하기.\n",
    "# 1이 있으면 모든 Column의 값들이 동일 하다는 것을 의미.\n",
    "is_unique = train.apply(pd.Series.unique, axis=0).apply(len)\n",
    "is_unique[is_unique == len(train)].index, is_unique[is_unique == 1].index"
   ]
  },
  {
   "cell_type": "markdown",
   "metadata": {},
   "source": [
    "### Visualize\n",
    "---"
   ]
  },
  {
   "cell_type": "code",
   "execution_count": 45,
   "metadata": {},
   "outputs": [
    {
     "data": {
      "text/plain": [
       "<Axes: xlabel='target', ylabel='Frequency'>"
      ]
     },
     "execution_count": 45,
     "metadata": {},
     "output_type": "execute_result"
    },
    {
     "data": {
      "image/png": "[encoded data removed]",
      "text/plain": [
       "<Figure size 1400x400 with 3 Axes>"
      ]
     },
     "metadata": {},
     "output_type": "display_data"
    }
   ],
   "source": [
    "plt.rcParams[\"figure.figsize\"] = (14, 4)\n",
    "fig1, axes1 = plt.subplots(1, 3)\n",
    "df_query_by_type(train, float)[\"maximum_speed_limit\"].plot.hist(ax=axes1[0], xlabel=\"maximum_speed_limit\")\n",
    "df_query_by_type(train, float)[\"weight_restricted\"].plot.hist(ax=axes1[1], xlabel=\"weight_restricted\")\n",
    "df_query_by_type(train, float)[\"target\"].plot.hist(ax=axes1[2], xlabel=\"target\")"
   ]
  },
  {
   "cell_type": "code",
   "execution_count": 46,
   "metadata": {},
   "outputs": [
    {
     "data": {
      "text/plain": [
       "<Axes: xlabel='road_type', ylabel='Frequency'>"
      ]
     },
     "execution_count": 46,
     "metadata": {},
     "output_type": "execute_result"
    },
    {
     "data": {
      "image/png": "[encoded data removed]",
      "text/plain": [
       "<Figure size 1400x800 with 6 Axes>"
      ]
     },
     "metadata": {},
     "output_type": "display_data"
    }
   ],
   "source": [
    "plt.rcParams[\"figure.figsize\"] = (14, 8)\n",
    "fig2, axes2 = plt.subplots(2, 3)\n",
    "df_query_by_type(train, int)[\"lane_count\"].plot.hist(ax=axes2[0, 0], xlabel=\"lane_count\")\n",
    "df_query_by_type(train, int)[\"road_rating\"].plot.hist(ax=axes2[0, 1], xlabel=\"road_rating\")\n",
    "df_query_by_type(train, int)[\"multi_linked\"].plot.hist(ax=axes2[0, 2], xlabel=\"multi_linked\")\n",
    "df_query_by_type(train, int)[\"connect_code\"].plot.hist(ax=axes2[1, 0], xlabel=\"connect_code\")\n",
    "df_query_by_type(train, int)[\"road_type\"].plot.hist(ax=axes2[1, 1], xlabel=\"road_type\")"
   ]
  },
  {
   "cell_type": "markdown",
   "metadata": {},
   "source": [
    "### Check \"road_name\"\n",
    "\n",
    "---"
   ]
  },
  {
   "cell_type": "code",
   "execution_count": 47,
   "metadata": {},
   "outputs": [],
   "source": [
    "# NOTE: 자주나는 표현 확인하기\n",
    "df = df_query_by_type(train, object)\n",
    "column_name = [\"road_name\", \"start_node_name\", \"end_node_name\"]\n",
    "\n",
    "freq_dist = {col_name: None for col_name in column_name}\n",
    "for col_name in column_name:\n",
    "    _text = \" \".join(df[col_name].to_list())\n",
    "    _text = re.sub(\"[^-가-힣\\s]\", \"\", _text).split(\" \")\n",
    "    freq_dist[col_name] = FreqDist(_text)"
   ]
  },
  {
   "cell_type": "code",
   "execution_count": 51,
   "metadata": {},
   "outputs": [
    {
     "name": "stdout",
     "output_type": "stream",
     "text": [
      "dict_keys(['지방도호선', '일반국도호선', '태평로', '경찰로', '-', '외도천교', '중정로', '번영로', '연동로', '중산간서로', '새서귀로', '어시천교', '삼무로', '애조로', '동부관광도로', '동홍로', '중문로', '연삼로', '중앙로', '산서로', '연북로', '남조로', '동문로', '한천로', '삼봉로', '고평교', '연북교', '관광단지로', '권학로', '시청로', '신대로', '서사로', '관덕로', '신산로', '신광로', '첨단로', '제거로교', '시민광장로', '임항로', '수영장길', '애원로', '삼성로', '일주동로', '호서중앙로', '아봉로', '호근로'])\n",
      "모든 카테고리를 설명할 수 있나요?: True\n"
     ]
    }
   ],
   "source": [
    "print(freq_dist[\"road_name\"].keys())\n",
    "\n",
    "tourism_road = [\"관광단지\", \"관광도로\"]\n",
    "general_road = [\"지방도\", \"일반국도\", \"길\", \"로\"]\n",
    "bridge_road = [\"교\", \"천교\"]\n",
    "nontaged_road = [\"-\"]\n",
    "road_type = tourism_road + general_road + bridge_road + nontaged_road\n",
    "\n",
    "print(\n",
    "    \"모든 카테고리를 설명할 수 있나요?:\",\n",
    "    (len(df) - len(df[series_string_filter(df[\"road_name\"], road_type)])) == 0,\n",
    ")"
   ]
  }
 ],
 "metadata": {
  "kernelspec": {
   "display_name": "damine",
   "language": "python",
   "name": "python3"
  },
  "language_info": {
   "codemirror_mode": {
    "name": "ipython",
    "version": 3
   },
   "file_extension": ".py",
   "mimetype": "text/x-python",
   "name": "python",
   "nbconvert_exporter": "python",
   "pygments_lexer": "ipython3",
   "version": "3.9.20"
  }
 },
 "nbformat": 4,
 "nbformat_minor": 2
}
